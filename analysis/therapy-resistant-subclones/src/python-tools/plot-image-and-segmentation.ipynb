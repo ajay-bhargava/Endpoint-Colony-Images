{
 "cells": [
  {
   "cell_type": "code",
   "execution_count": 13,
   "metadata": {
    "scrolled": false
   },
   "outputs": [],
   "source": [
    "import os, glob\n",
    "import numpy as np \n",
    "import matplotlib.pyplot as plt\n",
    "from PIL import Image\n",
    "jpeg_list = sorted(set([string for string in glob.glob('/Users/bhargaa/Documents/Experiments/Subclone-Size-Distribution/data/processed-acqusitions/**/*.jpg')]) - set([string for string in glob.glob('/Users/bhargaa/Documents/Experiments/Subclone-Size-Distribution/data/processed-acqusitions/**/*-Color-Code.jpg')]))\n",
    "color_code_list = sorted(set([string for string in glob.glob('/Users/bhargaa/Documents/Experiments/Subclone-Size-Distribution/data/processed-acqusitions/**/*-Color-Code.jpg')]))\n",
    "titles = sorted([titles.split('/',1)[0] for titles in [string.split('/processed-acqusitions/',1)[1] for string in jpeg_list]])\n",
    "dictionary = dict(zip(titles, zip(jpeg_list, color_code_list)))\n",
    "for k,v in dictionary.items():\n",
    "    left_image = np.array(Image.open(v[0]))\n",
    "    right_image = np.array(Image.open(v[1]))\n",
    "    data = np.concatenate((left_image, right_image), axis = 1)\n",
    "    final = Image.fromarray(data)\n",
    "    fig = plt.figure()\n",
    "    fig.suptitle(k, fontsize=20)\n",
    "    plt.imshow(final)\n",
    "    plt.savefig('/Users/bhargaa/Desktop/Image-Pairs/%s.pdf' % k, bbox_inches='tight')\n",
    "    fig.clear()\n",
    "    plt.close()"
   ]
  },
  {
   "cell_type": "code",
   "execution_count": null,
   "metadata": {},
   "outputs": [],
   "source": []
  }
 ],
 "metadata": {
  "kernelspec": {
   "display_name": "Python 3",
   "language": "python",
   "name": "python3"
  },
  "language_info": {
   "codemirror_mode": {
    "name": "ipython",
    "version": 3
   },
   "file_extension": ".py",
   "mimetype": "text/x-python",
   "name": "python",
   "nbconvert_exporter": "python",
   "pygments_lexer": "ipython3",
   "version": "3.7.7"
  }
 },
 "nbformat": 4,
 "nbformat_minor": 4
}
