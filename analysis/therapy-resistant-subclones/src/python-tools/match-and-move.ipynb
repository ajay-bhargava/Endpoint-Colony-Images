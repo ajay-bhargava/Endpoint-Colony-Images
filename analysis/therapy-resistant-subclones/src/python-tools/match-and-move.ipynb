{
 "cells": [
  {
   "cell_type": "code",
   "execution_count": 44,
   "metadata": {},
   "outputs": [],
   "source": [
    "import os\n",
    "import glob\n",
    "import shutil \n",
    "\n",
    "ids = []\n",
    "files = [string for string in glob.glob('/Users/bhargaa/Desktop/Boundary-Coordinates/*')]\n",
    "for string in glob.glob('/Users/bhargaa/Desktop/Boundary-Coordinates/*'):\n",
    "    folder_split = string.split(\"/\",4)\n",
    "    filepath_split = [this.split(\"-Boundary-Coordinates\", 1) for this in folder_split]\n",
    "    file_split = [this.split(\"Boundary-Coordinates/\", 1) for this in filepath_split[4]]\n",
    "    ids.append(file_split[0][1])\n",
    "dictionary = dict(zip(ids, files))\n",
    "\n",
    "for i, j in dictionary.items():\n",
    "    if os.path.exists(\"/Users/bhargaa/Documents/Experiments/Subclone-Size-Distribution/data/processed-acqusitions/\" + i + \"/\" + i + \"-Colony-Data/\"):\n",
    "        shutil.copy2(j, \"/Users/bhargaa/Documents/Experiments/Subclone-Size-Distribution/data/processed-acqusitions/\" + i + \"/\" + i + \"-Colony-Data/\")"
   ]
  }
 ],
 "metadata": {
  "kernelspec": {
   "display_name": "Python 3",
   "language": "python",
   "name": "python3"
  },
  "language_info": {
   "codemirror_mode": {
    "name": "ipython",
    "version": 3
   },
   "file_extension": ".py",
   "mimetype": "text/x-python",
   "name": "python",
   "nbconvert_exporter": "python",
   "pygments_lexer": "ipython3",
   "version": "3.7.7"
  }
 },
 "nbformat": 4,
 "nbformat_minor": 4
}
