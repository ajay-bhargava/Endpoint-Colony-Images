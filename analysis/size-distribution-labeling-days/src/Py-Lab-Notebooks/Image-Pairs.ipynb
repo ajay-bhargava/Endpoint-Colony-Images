{
 "cells": [
  {
   "cell_type": "markdown",
   "metadata": {},
   "source": [
    "# Create Image Pairs\n",
    "\n",
    "The purpose of this notebook is to provide a set of image pairs (at low-_ish_ resolution) to get some idea of what the segmentation quality of all the frames looks like in a data-science pipeline. "
   ]
  },
  {
   "cell_type": "code",
   "execution_count": 1,
   "metadata": {},
   "outputs": [
    {
     "name": "stdout",
     "output_type": "stream",
     "text": [
      "Requirement already satisfied: Pillow in /camp/lab/sahaie/working/Ajay/HPC/environments/anaconda/jupyter-lab/lib/python3.8/site-packages (7.1.2)\n"
     ]
    }
   ],
   "source": [
    "import sys\n",
    "!{sys.executable} -m pip install Pillow"
   ]
  },
  {
   "cell_type": "code",
   "execution_count": 1,
   "metadata": {},
   "outputs": [],
   "source": [
    "import os, glob\n",
    "import numpy as np \n",
    "import matplotlib.pyplot as plt\n",
    "from PIL import Image"
   ]
  },
  {
   "cell_type": "code",
   "execution_count": 2,
   "metadata": {},
   "outputs": [],
   "source": [
    "jpeg_list = sorted(set([string for string in glob.glob('/camp/home/bhargaa/working/Ajay/Thesis/Experiments/Endpoint-Colony-Images/shared-assets/size-distribution-labeling-days/processed-acquisitions/**/*.jpg')]) - set([string for string in glob.glob('/camp/home/bhargaa/working/Ajay/Thesis/Experiments/Endpoint-Colony-Images/shared-assets/size-distribution-labeling-days/processed-acquisitions/**/*-Color-Code.jpg')]))\n",
    "color_code_list = sorted(set([string for string in glob.glob('/camp/home/bhargaa/working/Ajay/Thesis/Experiments/Endpoint-Colony-Images/shared-assets/size-distribution-labeling-days/processed-acquisitions/**/*-Color-Code.jpg')]))"
   ]
  },
  {
   "cell_type": "code",
   "execution_count": null,
   "metadata": {},
   "outputs": [],
   "source": [
    "titles = sorted([titles.split('/',1)[0] for titles in [string.split('/processed-acquisitions/', 1)[1] for string in jpeg_list]])\n",
    "dictionary = dict(zip(titles, zip(jpeg_list, color_code_list)))\n",
    "for k,v in dictionary.items(): \n",
    "    print(k,v)"
   ]
  },
  {
   "cell_type": "code",
   "execution_count": 7,
   "metadata": {},
   "outputs": [],
   "source": [
    "for k,v in dictionary.items():\n",
    "    left_image = np.array(Image.open(v[0]))\n",
    "    right_image = np.array(Image.open(v[1]))\n",
    "    data = np.concatenate((left_image, right_image), axis = 1)\n",
    "    final = Image.fromarray(data)\n",
    "    fig = plt.figure()\n",
    "    fig.suptitle(k, fontsize=20)\n",
    "    plt.imshow(final)\n",
    "    plt.savefig('/camp/home/bhargaa/working/Ajay/Thesis/Experiments/Endpoint-Colony-Images/analysis/size-distribution-labeling-days/reports/image-pairs/%s.pdf' % k, bbox_inches='tight')\n",
    "    fig.clear()\n",
    "    plt.close()"
   ]
  }
 ],
 "metadata": {
  "kernelspec": {
   "display_name": "Python [conda env:jupyter-lab] *",
   "language": "python",
   "name": "conda-env-jupyter-lab-py"
  },
  "language_info": {
   "codemirror_mode": {
    "name": "ipython",
    "version": 3
   },
   "file_extension": ".py",
   "mimetype": "text/x-python",
   "name": "python",
   "nbconvert_exporter": "python",
   "pygments_lexer": "ipython3",
   "version": "3.8.2"
  }
 },
 "nbformat": 4,
 "nbformat_minor": 4
}
